{
 "cells": [
  {
   "cell_type": "code",
   "execution_count": 2,
   "metadata": {},
   "outputs": [],
   "source": [
    "import machine_learning"
   ]
  },
  {
   "cell_type": "code",
   "execution_count": 3,
   "metadata": {},
   "outputs": [
    {
     "name": "stdout",
     "output_type": "stream",
     "text": [
      "Based on the original data, the threshold should be: 212000.38010772964 and the reserve is 13447.601843987737\n",
      "The expected value of the new data is 173454.91658050148 with standard deviation 12305.468819130834.\n",
      "This means the government detachment point is 207267.65474088295 and the detachment point is 193820.0528968952.\n",
      "The insurance companies will expect to pay 173454.91658050148 instead of 191945.27088000003. This represents a decreased payout of -18490.354299498547\n",
      "The government threshold will also shift by -18180.327210834424\n",
      "This is the 95.10343339289786 percentile.\n"
     ]
    },
    {
     "data": {
      "text/plain": [
       "{'Threshold percent Flumevale': np.float64(0.9510343339289785),\n",
       " 'Original Threshold Flumevale': np.float64(212000.38010772964),\n",
       " 'New Threshold Flumevale': np.float64(193820.0528968952),\n",
       " 'Change in Threshold Flumevale': np.float64(-18180.327210834424),\n",
       " 'Original Expected Payout Flumevale': np.float64(191945.27088000003),\n",
       " 'New Expected Payout Flumevale': np.float64(173454.91658050148),\n",
       " 'Change in Payout Flumevale': np.float64(-18490.354299498547)}"
      ]
     },
     "execution_count": 3,
     "metadata": {},
     "output_type": "execute_result"
    }
   ],
   "source": [
    "machine_learning.expected_losses_given_min_frequency(\"dam_data_imputed_flumevale.csv\", 10, 95, False, True)"
   ]
  }
 ],
 "metadata": {
  "kernelspec": {
   "display_name": "Python 3",
   "language": "python",
   "name": "python3"
  },
  "language_info": {
   "codemirror_mode": {
    "name": "ipython",
    "version": 3
   },
   "file_extension": ".py",
   "mimetype": "text/x-python",
   "name": "python",
   "nbconvert_exporter": "python",
   "pygments_lexer": "ipython3",
   "version": "3.12.4"
  }
 },
 "nbformat": 4,
 "nbformat_minor": 2
}
