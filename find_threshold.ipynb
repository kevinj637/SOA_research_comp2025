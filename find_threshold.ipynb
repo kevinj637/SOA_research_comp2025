{
 "cells": [
  {
   "cell_type": "code",
   "execution_count": 1,
   "metadata": {},
   "outputs": [],
   "source": [
    "import machine_learning"
   ]
  },
  {
   "cell_type": "code",
   "execution_count": 2,
   "metadata": {},
   "outputs": [
    {
     "name": "stdout",
     "output_type": "stream",
     "text": [
      "Train model on 3522 examples\n",
      "Model trained in 0:00:00.595194\n"
     ]
    },
    {
     "data": {
      "text/plain": [
       "{'Threshold percent Flumevale': np.float64(0.9508991564083724),\n",
       " 'Original Threshold Flumevale': np.float64(212000.38010772964),\n",
       " 'New Threshold Flumevale': np.float64(198133.74413830388),\n",
       " 'Change in Threshold Flumevale': np.float64(-13866.635969425755),\n",
       " 'Original Expected Payout Flumevale': np.float64(191945.27088000003),\n",
       " 'New Expected Payout Flumevale': np.float64(177809.74821816548),\n",
       " 'Change in Payout Flumevale': np.float64(-14135.522661834548)}"
      ]
     },
     "execution_count": 2,
     "metadata": {},
     "output_type": "execute_result"
    }
   ],
   "source": [
    "machine_learning.expected_losses_given_min_frequency(\"dam_data_imputed_flumevale.csv\", 6, 95, False, False)"
   ]
  }
 ],
 "metadata": {
  "kernelspec": {
   "display_name": "Python 3",
   "language": "python",
   "name": "python3"
  },
  "language_info": {
   "codemirror_mode": {
    "name": "ipython",
    "version": 3
   },
   "file_extension": ".py",
   "mimetype": "text/x-python",
   "name": "python",
   "nbconvert_exporter": "python",
   "pygments_lexer": "ipython3",
   "version": "3.12.4"
  }
 },
 "nbformat": 4,
 "nbformat_minor": 2
}
