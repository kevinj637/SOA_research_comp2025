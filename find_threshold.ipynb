{
 "cells": [
  {
   "cell_type": "code",
   "execution_count": 5,
   "metadata": {},
   "outputs": [],
   "source": [
    "import machine_learning"
   ]
  },
  {
   "cell_type": "code",
   "execution_count": 6,
   "metadata": {},
   "outputs": [
    {
     "name": "stdout",
     "output_type": "stream",
     "text": [
      "Train model on 3522 examples\n",
      "Model trained in 0:00:00.385476\n",
      "22\n",
      "Region: Flumevale\n",
      "Average Loss Given Failure: 2069638.2999999998\n",
      "Expected Value: 177809.74821816548\n",
      "Standard Deviation: 12290.496595913497\n",
      "Variance: 151056306.57416126\n",
      "Number of Dams: 3522\n",
      "Expected Reserves: 206397.44330026026\n",
      "\n",
      "\n"
     ]
    },
    {
     "name": "stderr",
     "output_type": "stream",
     "text": [
      "c:\\Users\\kevin\\source\\repos\\ASNA2024\\soa_research\\gov_expenditure.py:7: FutureWarning: Calling float on a single element Series is deprecated and will raise a TypeError in the future. Use float(ser.iloc[0]) instead\n",
      "  return float(standard_deviation * 2.326 + expected_value)\n"
     ]
    },
    {
     "name": "stdout",
     "output_type": "stream",
     "text": [
      "22\n",
      "Region: Flumevale\n",
      "Average Loss Given Failure: 2069638.3\n",
      "Expected Value: 191945.27088000003\n",
      "Standard Deviation: 12192.640669734978\n",
      "Variance: 148660486.50127542\n",
      "Number of Dams: 3522\n",
      "Expected Reserves: 220305.3530778036\n",
      "\n",
      "\n",
      "Based on the original data, the threshold should be: 212000.38010772964 and the reserve is 13447.601843987737\n",
      "The expected value of the new data is 177809.74821816548 with standard deviation 12290.496595913497.\n",
      "This means the government detachment point is 211581.34598229162 and the detachment point is 198133.74413830388.\n",
      "The insurance companies will expect to pay 177809.74821816548 instead of 191945.27088000003. This represents a decreased payout of -14135.522661834548\n",
      "The government threshold will also shift down 13866.635969425755\n",
      "This is the 95.08991564083725 percentile.\n"
     ]
    },
    {
     "name": "stderr",
     "output_type": "stream",
     "text": [
      "c:\\Users\\kevin\\source\\repos\\ASNA2024\\soa_research\\gov_expenditure.py:7: FutureWarning: Calling float on a single element Series is deprecated and will raise a TypeError in the future. Use float(ser.iloc[0]) instead\n",
      "  return float(standard_deviation * 2.326 + expected_value)\n"
     ]
    },
    {
     "data": {
      "text/plain": [
       "np.float64(0.9508991564083724)"
      ]
     },
     "execution_count": 6,
     "metadata": {},
     "output_type": "execute_result"
    }
   ],
   "source": [
    "machine_learning.expected_losses_given_min_frequency(\"dam_data_imputed_flumevale.csv\", 6, 95, False)"
   ]
  }
 ],
 "metadata": {
  "kernelspec": {
   "display_name": "Python 3",
   "language": "python",
   "name": "python3"
  },
  "language_info": {
   "codemirror_mode": {
    "name": "ipython",
    "version": 3
   },
   "file_extension": ".py",
   "mimetype": "text/x-python",
   "name": "python",
   "nbconvert_exporter": "python",
   "pygments_lexer": "ipython3",
   "version": "3.12.4"
  }
 },
 "nbformat": 4,
 "nbformat_minor": 2
}
