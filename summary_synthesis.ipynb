{
 "cells": [
  {
   "cell_type": "code",
   "execution_count": null,
   "metadata": {},
   "outputs": [],
   "source": [
    "import pandas as pd\n",
    "import numpy as np\n",
    "import matplotlib as plot"
   ]
  },
  {
   "cell_type": "code",
   "execution_count": 2,
   "metadata": {},
   "outputs": [
    {
     "data": {
      "text/plain": [
       "['ID',\n",
       " 'Region',\n",
       " 'Regulated Dam',\n",
       " 'Primary Purpose',\n",
       " 'Primary Type',\n",
       " 'Height (m)',\n",
       " 'Length (km)',\n",
       " 'Volume (m3)',\n",
       " 'Year Completed',\n",
       " 'Years Modified',\n",
       " 'Surface (km2)',\n",
       " 'Drainage (km2)',\n",
       " 'Spillway',\n",
       " 'Last Inspection Date',\n",
       " 'Inspection Frequency',\n",
       " 'Distance to Nearest City (km)',\n",
       " 'Hazard',\n",
       " 'Assessment',\n",
       " 'Assessment Date',\n",
       " 'Probability of Failure',\n",
       " 'Loss given failure - prop (Qm)',\n",
       " 'Loss given failure - liab (Qm)',\n",
       " 'Loss given failure - BI (Qm)']"
      ]
     },
     "execution_count": 2,
     "metadata": {},
     "output_type": "execute_result"
    }
   ],
   "source": [
    "df = pd.read_csv(\"dam_data.csv\")\n",
    "\n",
    "list(df)"
   ]
  },
  {
   "cell_type": "code",
   "execution_count": 44,
   "metadata": {},
   "outputs": [
    {
     "name": "stdout",
     "output_type": "stream",
     "text": [
      "Column, # empty, # filled, '%' empty\n",
      "ID, 0, 20806, 0.0\n",
      "Region, 0, 20806, 0.0\n",
      "Regulated Dam, 0, 20806, 0.0\n",
      "Primary Purpose, 1184, 19622, 5.69066615399404\n",
      "Primary Type, 257, 20549, 1.2352206094395848\n",
      "Height (m), 0, 20806, 0.0\n",
      "Length (km), 2671, 18135, 12.837642987599732\n",
      "Volume (m3), 9678, 11128, 46.515428241853314\n",
      "Year Completed, 1384, 19422, 6.651927328655195\n",
      "Years Modified, 18995, 1811, 91.29578006344323\n",
      "Surface (km2), 2798, 18008, 13.448043833509566\n",
      "Drainage (km2), 2463, 18343, 11.83793136595213\n",
      "Spillway, 12786, 8020, 61.45342689608767\n",
      "Last Inspection Date, 10024, 10782, 48.17841007401711\n",
      "Inspection Frequency, 8116, 12690, 39.00797846774969\n",
      "Distance to Nearest City (km), 10229, 10577, 49.163702778044794\n",
      "Hazard, 0, 20806, 0.0\n",
      "Assessment, 2537, 18269, 12.193598000576756\n",
      "Assessment Date, 9773, 11033, 46.97202729981736\n",
      "Probability of Failure, 0, 20806, 0.0\n",
      "Loss given failure - prop (Qm), 7, 20799, 0.033644141113140444\n",
      "Loss given failure - liab (Qm), 12, 20794, 0.05767567047966932\n",
      "Loss given failure - BI (Qm), 10730, 10076, 51.57166202057098\n"
     ]
    }
   ],
   "source": [
    "# df = pd.drop('ID',\n",
    "#  'Region',\n",
    "#  'Regulated Dam',\n",
    "#  'Primary Purpose',\n",
    "#  'Primary Type',\n",
    "#  'Height (m)',\n",
    "#  'Length (km)',\n",
    "#  'Volume (m3)',\n",
    "#  'Year Completed',\n",
    "#  'Years Modified',\n",
    "#  'Surface (km2)',\n",
    "#  'Drainage (km2)',\n",
    "#  'Spillway',\n",
    "#  'Last Inspection Date',\n",
    "#  'Inspection Frequency',\n",
    "#  'Distance to Nearest City (km)',\n",
    "#  'Hazard',\n",
    "#  'Assessment',\n",
    "#  'Assessment Date',\n",
    "#  'Probability of Failure',\n",
    "#  'Loss given failure - prop (Qm)',\n",
    "#  'Loss given failure - liab (Qm)',\n",
    "#  'Loss given failure - BI (Qm)')\n",
    "\n",
    "rows = len(df)\n",
    "column = len(list(df))\n",
    "#rows\n",
    "\n",
    "#df.iat[1, 1]\n",
    "print(\"Column, # empty, # filled, '%' empty\")\n",
    "for i in range(column):\n",
    "    empty_rows = 0\n",
    "    #print(i)\n",
    "    for j in range(rows):\n",
    "        if pd.isna(df.iloc[j,i]):\n",
    "            empty_rows = empty_rows + 1\n",
    "        # if (j%1000 == 0):\n",
    "        #     print(j)\n",
    "    print(f\"{df.columns[i]}, {empty_rows}, {rows - empty_rows}, {empty_rows/rows* 100}\")"
   ]
  },
  {
   "cell_type": "code",
   "execution_count": null,
   "metadata": {},
   "outputs": [],
   "source": []
  },
  {
   "cell_type": "code",
   "execution_count": 81,
   "metadata": {},
   "outputs": [
    {
     "name": "stdout",
     "output_type": "stream",
     "text": [
      "1/3 done\n",
      "2/3 done\n",
      "Maximum total loss: 8047946.899999954\n",
      "Average value of losses: 386.808944535228\n"
     ]
    }
   ],
   "source": [
    "cumulative_prop = 0\n",
    "cumulative_liab = 0\n",
    "cumulative_BI = 0\n",
    "\n",
    "missing_files = []\n",
    "\n",
    "for j in range(rows):\n",
    "    #20 = Loss given failure - prop (Qm)\n",
    "    if (not pd.isna(df.loc[j, \"Loss given failure - prop (Qm)\"])):\n",
    "        cumulative_prop = cumulative_prop + df.loc[j, \"Loss given failure - prop (Qm)\"]\n",
    "    else:\n",
    "        missing_files.append(j)\n",
    "        #print(f\"{df.loc[j]}\\n\\n\\n\")\n",
    "#print(cumulative_prop)\n",
    "\n",
    "print(\"1/3 done\")\n",
    "\n",
    "for j in range(rows):\n",
    "    if (not pd.isna(df.loc[j, \"Loss given failure - liab (Qm)\"])):\n",
    "        cumulative_liab = cumulative_liab + df.loc[j, \"Loss given failure - liab (Qm)\"]\n",
    "    else:\n",
    "        missing_files.append(j)\n",
    "        #print(f\"{df.loc[j]}\\n\\n\\n\")\n",
    "#print(cumulative_liab)\n",
    "\n",
    "print(\"2/3 done\")\n",
    "\n",
    "for j in range(rows):\n",
    "    if (not pd.isna(df.loc[j, \"Loss given failure - BI (Qm)\"])):\n",
    "        cumulative_BI = cumulative_BI + df.loc[j, \"Loss given failure - BI (Qm)\"]\n",
    "    else:\n",
    "        missing_files.append(j)\n",
    "        #print(f\"{df.loc[j]}\\n\\n\\n\")\n",
    "#print(cumulative_BI)\n",
    "\n",
    "missing_files = list(set(missing_files))\n",
    "missing_files_df = df.iloc[missing_files]\n",
    "\n",
    "avg_loss = (cumulative_BI + cumulative_liab + cumulative_prop) / rows\n",
    "max_loss = cumulative_BI + cumulative_liab + cumulative_prop\n",
    "print(f\"Maximum total loss: {max_loss}\\nAverage value of losses: {avg_loss}\")"
   ]
  },
  {
   "cell_type": "code",
   "execution_count": 82,
   "metadata": {},
   "outputs": [],
   "source": [
    "pd.DataFrame.to_csv(missing_files_df, \"missing_losses.csv\")"
   ]
  },
  {
   "cell_type": "code",
   "execution_count": null,
   "metadata": {},
   "outputs": [],
   "source": [
    "# expected_value = 0\n",
    "# #based on original data\n",
    "# for j in range(rows):\n",
    "#     expected_value = "
   ]
  },
  {
   "cell_type": "code",
   "execution_count": null,
   "metadata": {},
   "outputs": [],
   "source": [
    "#pd.DataFrame.to_csv(df,\"expected_value.csv\")\n",
    "\n",
    "for i in range(column):\n",
    "    "
   ]
  }
 ],
 "metadata": {
  "kernelspec": {
   "display_name": "Python 3",
   "language": "python",
   "name": "python3"
  },
  "language_info": {
   "codemirror_mode": {
    "name": "ipython",
    "version": 3
   },
   "file_extension": ".py",
   "mimetype": "text/x-python",
   "name": "python",
   "nbconvert_exporter": "python",
   "pygments_lexer": "ipython3",
   "version": "3.12.4"
  }
 },
 "nbformat": 4,
 "nbformat_minor": 2
}
